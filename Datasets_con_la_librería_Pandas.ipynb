{
  "nbformat": 4,
  "nbformat_minor": 0,
  "metadata": {
    "colab": {
      "provenance": [],
      "authorship_tag": "ABX9TyPheNlDveKVelgk+ErK2b8Z",
      "include_colab_link": true
    },
    "kernelspec": {
      "name": "python3",
      "display_name": "Python 3"
    },
    "language_info": {
      "name": "python"
    }
  },
  "cells": [
    {
      "cell_type": "markdown",
      "metadata": {
        "id": "view-in-github",
        "colab_type": "text"
      },
      "source": [
        "<a href=\"https://colab.research.google.com/github/gonzalezulises/CoderhouseFCD/blob/main/Datasets_con_la_librer%C3%ADa_Pandas.ipynb\" target=\"_parent\"><img src=\"https://colab.research.google.com/assets/colab-badge.svg\" alt=\"Open In Colab\"/></a>"
      ]
    },
    {
      "cell_type": "markdown",
      "source": [
        "# Actividad práctica: Datasets con la librería Pandas\n",
        "## Ulises Gonzalez\n",
        "\n",
        "Identificar 3 datasets que cumplan con las siguientes condiciones: a) al menos 2000 filas y b) al menos 15 columnas. Pueden buscar en las siguientes fuentes: Github, Kaggle, Google Dataset Search (también puede ser un archivo propio).\n",
        "Crear una cuenta de GitHub y hostearlo ahí.\n",
        "Cargar los archivos correspondientes por medio de la librería Pandas.\n",
        "Describir las variables potencialmente interesantes en cada archivo teniendo en cuenta el contexto del caso..\n"
      ],
      "metadata": {
        "id": "pTjLhehsccWB"
      }
    }
  ]
}